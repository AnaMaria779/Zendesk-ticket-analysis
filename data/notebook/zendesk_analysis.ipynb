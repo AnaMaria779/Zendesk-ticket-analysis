# Import necessary libraries
import pandas as pd
import matplotlib.pyplot as plt
import seaborn as sns

# Load dataset
df = pd.read_csv("../data/zendesk_tickets.csv")

# Display first few rows
df.head()
# Check dataset info
df.info()

# Summary statistics
df.describe()
# Count issue types
issue_counts = df["Issue Type"].value_counts()

# Plot
plt.figure(figsize=(8, 5))
sns.barplot(x=issue_counts.index, y=issue_counts.values, palette="viridis")
plt.title("Most Common Customer Issues")
plt.xticks(rotation=45)
plt.show()

# Calculate averages
avg_response_time = df["Response Time (hours)"].mean()
avg_resolution_time = df["Resolution Time (hours)"].mean()

print(f"Average Response Time: {avg_response_time:.2f} hours")
print(f"Average Resolution Time: {avg_resolution_time:.2f} hours")
